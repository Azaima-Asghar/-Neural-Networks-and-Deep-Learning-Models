{
 "cells": [
  {
   "cell_type": "code",
   "execution_count": 1,
   "metadata": {},
   "outputs": [],
   "source": [
    "# Import Required Dependencies.\n",
    "import pandas as pd\n",
    "import matplotlib as plt\n",
    "from sklearn.datasets import make_blobs\n",
    "import sklearn as skl\n",
    "from sklearn.model_selection import train_test_split\n",
    "import tensorflow as tf\n",
    "from sklearn.datasets import make_moons"
   ]
  },
  {
   "cell_type": "code",
   "execution_count": 2,
   "metadata": {},
   "outputs": [
    {
     "data": {
      "text/plain": [
       "<matplotlib.axes._subplots.AxesSubplot at 0x1a4b4c85d0>"
      ]
     },
     "execution_count": 2,
     "metadata": {},
     "output_type": "execute_result"
    },
    {
     "data": {
      "image/png": "[encoded data removed]",
      "text/plain": [
       "<Figure size 432x288 with 2 Axes>"
      ]
     },
     "metadata": {
      "needs_background": "light"
     },
     "output_type": "display_data"
    }
   ],
   "source": [
    "# Generate dummy dataset.\n",
    "X, y = make_blobs(n_samples = 1000, centers = 2, n_features = 2, random_state = 78)\n",
    "\n",
    "# Create a dataframe with the dummy data.\n",
    "df = pd.DataFrame(data = X, columns = ['Feature 1', 'Feature 2'])\n",
    "df['Target'] = y\n",
    "\n",
    "# Plot the dummy data.\n",
    "df.plot.scatter(x = 'Feature 1', y = 'Feature 2', c = 'Target', colormap = 'winter')"
   ]
  },
  {
   "cell_type": "code",
   "execution_count": 3,
   "metadata": {},
   "outputs": [],
   "source": [
    "# Use sklearn to split the dataset into train and test set.\n",
    "X_train, X_test, y_train, y_test = train_test_split(X, y, random_state = 78)"
   ]
  },
  {
   "cell_type": "code",
   "execution_count": 4,
   "metadata": {},
   "outputs": [],
   "source": [
    "# Create scaler instance.\n",
    "X_scaler = skl.preprocessing.StandardScaler()\n",
    "\n",
    "# Fit the scaler.\n",
    "X_scaler.fit(X_train)\n",
    "\n",
    "# Scale the data\n",
    "x_train_Scaled = X_scaler.fit_transform(X_train)\n",
    "X_test_scaled = X_scaler.fit_transform(X_test)"
   ]
  },
  {
   "cell_type": "code",
   "execution_count": 5,
   "metadata": {},
   "outputs": [],
   "source": [
    "# Create the keras sequential model.\n",
    "nn_model = tf.keras.models.Sequential()"
   ]
  },
  {
   "cell_type": "code",
   "execution_count": 6,
   "metadata": {},
   "outputs": [],
   "source": [
    "# Add our first Dense layer, including the input layer.\n",
    "nn_model.add(tf.keras.layers.Dense(units = 1, activation = 'relu',input_dim = 2))"
   ]
  },
  {
   "cell_type": "code",
   "execution_count": 7,
   "metadata": {},
   "outputs": [],
   "source": [
    "# Add the output layer that uses a probablity activation function.\n",
    "nn_model.add(tf.keras.layers.Dense(units = 1, activation = 'sigmoid'))"
   ]
  },
  {
   "cell_type": "code",
   "execution_count": 8,
   "metadata": {},
   "outputs": [
    {
     "name": "stdout",
     "output_type": "stream",
     "text": [
      "Model: \"sequential\"\n",
      "_________________________________________________________________\n",
      "Layer (type)                 Output Shape              Param #   \n",
      "=================================================================\n",
      "dense (Dense)                (None, 1)                 3         \n",
      "_________________________________________________________________\n",
      "dense_1 (Dense)              (None, 1)                 2         \n",
      "=================================================================\n",
      "Total params: 5\n",
      "Trainable params: 5\n",
      "Non-trainable params: 0\n",
      "_________________________________________________________________\n"
     ]
    }
   ],
   "source": [
    "# Check the summary of the Sequential model.\n",
    "nn_model.summary()"
   ]
  },
  {
   "cell_type": "code",
   "execution_count": 9,
   "metadata": {},
   "outputs": [],
   "source": [
    "# Compile the Sequential model together and customize metrics.\n",
    "nn_model.compile(loss = 'binary_crossentropy', optimizer = 'adam', metrics = ['accuracy'] )"
   ]
  },
  {
   "cell_type": "code",
   "execution_count": 10,
   "metadata": {},
   "outputs": [
    {
     "name": "stdout",
     "output_type": "stream",
     "text": [
      "Train on 750 samples\n",
      "Epoch 1/100\n",
      "750/750 [==============================] - 1s 1ms/sample - loss: 2.6307 - accuracy: 0.0173\n",
      "Epoch 2/100\n",
      "750/750 [==============================] - 0s 62us/sample - loss: 2.4528 - accuracy: 0.0000e+00\n",
      "Epoch 3/100\n",
      "750/750 [==============================] - 0s 66us/sample - loss: 2.2840 - accuracy: 0.0000e+00\n",
      "Epoch 4/100\n",
      "750/750 [==============================] - 0s 64us/sample - loss: 2.1299 - accuracy: 0.0000e+00\n",
      "Epoch 5/100\n",
      "750/750 [==============================] - 0s 66us/sample - loss: 1.9877 - accuracy: 0.0000e+00\n",
      "Epoch 6/100\n",
      "750/750 [==============================] - 0s 65us/sample - loss: 1.8532 - accuracy: 0.0000e+00\n",
      "Epoch 7/100\n",
      "750/750 [==============================] - 0s 69us/sample - loss: 1.7327 - accuracy: 0.0000e+00\n",
      "Epoch 8/100\n",
      "750/750 [==============================] - 0s 62us/sample - loss: 1.6208 - accuracy: 0.0000e+00\n",
      "Epoch 9/100\n",
      "750/750 [==============================] - 0s 70us/sample - loss: 1.5228 - accuracy: 0.0000e+00\n",
      "Epoch 10/100\n",
      "750/750 [==============================] - 0s 62us/sample - loss: 1.4305 - accuracy: 0.0000e+00\n",
      "Epoch 11/100\n",
      "750/750 [==============================] - 0s 70us/sample - loss: 1.3498 - accuracy: 0.0000e+00\n",
      "Epoch 12/100\n",
      "750/750 [==============================] - 0s 61us/sample - loss: 1.2796 - accuracy: 0.0000e+00\n",
      "Epoch 13/100\n",
      "750/750 [==============================] - 0s 64us/sample - loss: 1.2158 - accuracy: 0.0000e+00\n",
      "Epoch 14/100\n",
      "750/750 [==============================] - 0s 68us/sample - loss: 1.1598 - accuracy: 0.0000e+00\n",
      "Epoch 15/100\n",
      "750/750 [==============================] - 0s 65us/sample - loss: 1.1099 - accuracy: 0.0000e+00\n",
      "Epoch 16/100\n",
      "750/750 [==============================] - 0s 70us/sample - loss: 1.0666 - accuracy: 0.0000e+00\n",
      "Epoch 17/100\n",
      "750/750 [==============================] - 0s 64us/sample - loss: 1.0281 - accuracy: 0.0000e+00\n",
      "Epoch 18/100\n",
      "750/750 [==============================] - 0s 70us/sample - loss: 0.9946 - accuracy: 0.0000e+00\n",
      "Epoch 19/100\n",
      "750/750 [==============================] - 0s 64us/sample - loss: 0.9646 - accuracy: 0.0000e+00\n",
      "Epoch 20/100\n",
      "750/750 [==============================] - 0s 69us/sample - loss: 0.9384 - accuracy: 0.0000e+00\n",
      "Epoch 21/100\n",
      "750/750 [==============================] - 0s 65us/sample - loss: 0.9147 - accuracy: 0.0000e+00\n",
      "Epoch 22/100\n",
      "750/750 [==============================] - 0s 69us/sample - loss: 0.8935 - accuracy: 0.0000e+00\n",
      "Epoch 23/100\n",
      "750/750 [==============================] - 0s 64us/sample - loss: 0.8749 - accuracy: 0.0000e+00\n",
      "Epoch 24/100\n",
      "750/750 [==============================] - 0s 65us/sample - loss: 0.8579 - accuracy: 0.0000e+00\n",
      "Epoch 25/100\n",
      "750/750 [==============================] - 0s 68us/sample - loss: 0.8426 - accuracy: 0.0000e+00\n",
      "Epoch 26/100\n",
      "750/750 [==============================] - 0s 68us/sample - loss: 0.8288 - accuracy: 0.0053\n",
      "Epoch 27/100\n",
      "750/750 [==============================] - 0s 72us/sample - loss: 0.8163 - accuracy: 0.0093\n",
      "Epoch 28/100\n",
      "750/750 [==============================] - 0s 67us/sample - loss: 0.8049 - accuracy: 0.0160\n",
      "Epoch 29/100\n",
      "750/750 [==============================] - 0s 65us/sample - loss: 0.7944 - accuracy: 0.0427\n",
      "Epoch 30/100\n",
      "750/750 [==============================] - 0s 66us/sample - loss: 0.7848 - accuracy: 0.0840\n",
      "Epoch 31/100\n",
      "750/750 [==============================] - 0s 62us/sample - loss: 0.7758 - accuracy: 0.1373\n",
      "Epoch 32/100\n",
      "750/750 [==============================] - 0s 70us/sample - loss: 0.7675 - accuracy: 0.2040\n",
      "Epoch 33/100\n",
      "750/750 [==============================] - 0s 62us/sample - loss: 0.7597 - accuracy: 0.2867\n",
      "Epoch 34/100\n",
      "750/750 [==============================] - 0s 68us/sample - loss: 0.7525 - accuracy: 0.3707\n",
      "Epoch 35/100\n",
      "750/750 [==============================] - 0s 71us/sample - loss: 0.7456 - accuracy: 0.4507\n",
      "Epoch 36/100\n",
      "750/750 [==============================] - 0s 64us/sample - loss: 0.7391 - accuracy: 0.4853\n",
      "Epoch 37/100\n",
      "750/750 [==============================] - 0s 61us/sample - loss: 0.7329 - accuracy: 0.4920\n",
      "Epoch 38/100\n",
      "750/750 [==============================] - 0s 64us/sample - loss: 0.7270 - accuracy: 0.4933\n",
      "Epoch 39/100\n",
      "750/750 [==============================] - 0s 70us/sample - loss: 0.7213 - accuracy: 0.4933\n",
      "Epoch 40/100\n",
      "750/750 [==============================] - 0s 67us/sample - loss: 0.7157 - accuracy: 0.4933\n",
      "Epoch 41/100\n",
      "750/750 [==============================] - 0s 72us/sample - loss: 0.7103 - accuracy: 0.4933\n",
      "Epoch 42/100\n",
      "750/750 [==============================] - 0s 65us/sample - loss: 0.7050 - accuracy: 0.4933\n",
      "Epoch 43/100\n",
      "750/750 [==============================] - 0s 65us/sample - loss: 0.6998 - accuracy: 0.4933\n",
      "Epoch 44/100\n",
      "750/750 [==============================] - 0s 65us/sample - loss: 0.6945 - accuracy: 0.4933\n",
      "Epoch 45/100\n",
      "750/750 [==============================] - 0s 65us/sample - loss: 0.6893 - accuracy: 0.4933\n",
      "Epoch 46/100\n",
      "750/750 [==============================] - 0s 70us/sample - loss: 0.6839 - accuracy: 0.4933\n",
      "Epoch 47/100\n",
      "750/750 [==============================] - 0s 62us/sample - loss: 0.6784 - accuracy: 0.4933\n",
      "Epoch 48/100\n",
      "750/750 [==============================] - 0s 70us/sample - loss: 0.6728 - accuracy: 0.4933\n",
      "Epoch 49/100\n",
      "750/750 [==============================] - 0s 62us/sample - loss: 0.6670 - accuracy: 0.4933\n",
      "Epoch 50/100\n",
      "750/750 [==============================] - 0s 67us/sample - loss: 0.6609 - accuracy: 0.4933\n",
      "Epoch 51/100\n",
      "750/750 [==============================] - 0s 74us/sample - loss: 0.6544 - accuracy: 0.4933\n",
      "Epoch 52/100\n",
      "750/750 [==============================] - 0s 65us/sample - loss: 0.6477 - accuracy: 0.4933\n",
      "Epoch 53/100\n",
      "750/750 [==============================] - 0s 70us/sample - loss: 0.6405 - accuracy: 0.4933\n",
      "Epoch 54/100\n",
      "750/750 [==============================] - 0s 63us/sample - loss: 0.6329 - accuracy: 0.4933\n",
      "Epoch 55/100\n",
      "750/750 [==============================] - 0s 60us/sample - loss: 0.6247 - accuracy: 0.4933\n",
      "Epoch 56/100\n",
      "750/750 [==============================] - 0s 58us/sample - loss: 0.6161 - accuracy: 0.4933\n",
      "Epoch 57/100\n",
      "750/750 [==============================] - 0s 59us/sample - loss: 0.6069 - accuracy: 0.4933\n",
      "Epoch 58/100\n",
      "750/750 [==============================] - 0s 59us/sample - loss: 0.5970 - accuracy: 0.4933\n",
      "Epoch 59/100\n",
      "750/750 [==============================] - 0s 58us/sample - loss: 0.5866 - accuracy: 0.4933\n",
      "Epoch 60/100\n",
      "750/750 [==============================] - 0s 63us/sample - loss: 0.5756 - accuracy: 0.7320\n",
      "Epoch 61/100\n",
      "750/750 [==============================] - 0s 59us/sample - loss: 0.5641 - accuracy: 1.0000\n",
      "Epoch 62/100\n",
      "750/750 [==============================] - 0s 60us/sample - loss: 0.5520 - accuracy: 1.0000\n",
      "Epoch 63/100\n",
      "750/750 [==============================] - 0s 61us/sample - loss: 0.5393 - accuracy: 1.0000\n",
      "Epoch 64/100\n",
      "750/750 [==============================] - 0s 60us/sample - loss: 0.5263 - accuracy: 1.0000\n",
      "Epoch 65/100\n",
      "750/750 [==============================] - 0s 63us/sample - loss: 0.5128 - accuracy: 1.0000\n",
      "Epoch 66/100\n",
      "750/750 [==============================] - 0s 60us/sample - loss: 0.4991 - accuracy: 1.0000\n",
      "Epoch 67/100\n",
      "750/750 [==============================] - 0s 59us/sample - loss: 0.4852 - accuracy: 1.0000\n",
      "Epoch 68/100\n",
      "750/750 [==============================] - 0s 60us/sample - loss: 0.4712 - accuracy: 1.0000\n",
      "Epoch 69/100\n",
      "750/750 [==============================] - 0s 58us/sample - loss: 0.4572 - accuracy: 1.0000\n",
      "Epoch 70/100\n",
      "750/750 [==============================] - 0s 58us/sample - loss: 0.4434 - accuracy: 1.0000\n",
      "Epoch 71/100\n",
      "750/750 [==============================] - 0s 61us/sample - loss: 0.4298 - accuracy: 1.0000\n",
      "Epoch 72/100\n",
      "750/750 [==============================] - 0s 57us/sample - loss: 0.4163 - accuracy: 1.0000\n",
      "Epoch 73/100\n",
      "750/750 [==============================] - 0s 60us/sample - loss: 0.4033 - accuracy: 1.0000\n",
      "Epoch 74/100\n",
      "750/750 [==============================] - 0s 57us/sample - loss: 0.3906 - accuracy: 1.0000\n",
      "Epoch 75/100\n",
      "750/750 [==============================] - 0s 58us/sample - loss: 0.3783 - accuracy: 1.0000\n",
      "Epoch 76/100\n",
      "750/750 [==============================] - 0s 59us/sample - loss: 0.3665 - accuracy: 1.0000\n",
      "Epoch 77/100\n",
      "750/750 [==============================] - 0s 59us/sample - loss: 0.3551 - accuracy: 1.0000\n",
      "Epoch 78/100\n"
     ]
    },
    {
     "name": "stdout",
     "output_type": "stream",
     "text": [
      "750/750 [==============================] - 0s 58us/sample - loss: 0.3441 - accuracy: 1.0000\n",
      "Epoch 79/100\n",
      "750/750 [==============================] - 0s 58us/sample - loss: 0.3337 - accuracy: 1.0000\n",
      "Epoch 80/100\n",
      "750/750 [==============================] - 0s 57us/sample - loss: 0.3236 - accuracy: 1.0000\n",
      "Epoch 81/100\n",
      "750/750 [==============================] - 0s 56us/sample - loss: 0.3140 - accuracy: 1.0000\n",
      "Epoch 82/100\n",
      "750/750 [==============================] - 0s 56us/sample - loss: 0.3048 - accuracy: 1.0000\n",
      "Epoch 83/100\n",
      "750/750 [==============================] - 0s 56us/sample - loss: 0.2961 - accuracy: 1.0000\n",
      "Epoch 84/100\n",
      "750/750 [==============================] - 0s 56us/sample - loss: 0.2877 - accuracy: 1.0000\n",
      "Epoch 85/100\n",
      "750/750 [==============================] - 0s 56us/sample - loss: 0.2797 - accuracy: 1.0000\n",
      "Epoch 86/100\n",
      "750/750 [==============================] - 0s 58us/sample - loss: 0.2720 - accuracy: 1.0000\n",
      "Epoch 87/100\n",
      "750/750 [==============================] - 0s 56us/sample - loss: 0.2647 - accuracy: 1.0000\n",
      "Epoch 88/100\n",
      "750/750 [==============================] - 0s 55us/sample - loss: 0.2577 - accuracy: 1.0000\n",
      "Epoch 89/100\n",
      "750/750 [==============================] - 0s 56us/sample - loss: 0.2510 - accuracy: 1.0000\n",
      "Epoch 90/100\n",
      "750/750 [==============================] - 0s 55us/sample - loss: 0.2446 - accuracy: 1.0000\n",
      "Epoch 91/100\n",
      "750/750 [==============================] - 0s 56us/sample - loss: 0.2384 - accuracy: 1.0000\n",
      "Epoch 92/100\n",
      "750/750 [==============================] - 0s 56us/sample - loss: 0.2325 - accuracy: 1.0000\n",
      "Epoch 93/100\n",
      "750/750 [==============================] - 0s 56us/sample - loss: 0.2267 - accuracy: 1.0000\n",
      "Epoch 94/100\n",
      "750/750 [==============================] - 0s 58us/sample - loss: 0.2213 - accuracy: 1.0000\n",
      "Epoch 95/100\n",
      "750/750 [==============================] - 0s 56us/sample - loss: 0.2161 - accuracy: 1.0000\n",
      "Epoch 96/100\n",
      "750/750 [==============================] - 0s 57us/sample - loss: 0.2110 - accuracy: 1.0000\n",
      "Epoch 97/100\n",
      "750/750 [==============================] - 0s 57us/sample - loss: 0.2062 - accuracy: 1.0000\n",
      "Epoch 98/100\n",
      "750/750 [==============================] - 0s 58us/sample - loss: 0.2015 - accuracy: 1.0000\n",
      "Epoch 99/100\n",
      "750/750 [==============================] - 0s 56us/sample - loss: 0.1970 - accuracy: 1.0000\n",
      "Epoch 100/100\n",
      "750/750 [==============================] - 0s 57us/sample - loss: 0.1927 - accuracy: 1.0000\n"
     ]
    }
   ],
   "source": [
    "# Fit the model to the training data.\n",
    "fit_model = nn_model.fit(X_train, y_train, epochs = 100)"
   ]
  },
  {
   "cell_type": "code",
   "execution_count": 11,
   "metadata": {},
   "outputs": [
    {
     "data": {
      "text/html": [
       "<div>\n",
       "<style scoped>\n",
       "    .dataframe tbody tr th:only-of-type {\n",
       "        vertical-align: middle;\n",
       "    }\n",
       "\n",
       "    .dataframe tbody tr th {\n",
       "        vertical-align: top;\n",
       "    }\n",
       "\n",
       "    .dataframe thead th {\n",
       "        text-align: right;\n",
       "    }\n",
       "</style>\n",
       "<table border=\"1\" class=\"dataframe\">\n",
       "  <thead>\n",
       "    <tr style=\"text-align: right;\">\n",
       "      <th></th>\n",
       "      <th>loss</th>\n",
       "      <th>accuracy</th>\n",
       "    </tr>\n",
       "  </thead>\n",
       "  <tbody>\n",
       "    <tr>\n",
       "      <th>1</th>\n",
       "      <td>2.630662</td>\n",
       "      <td>0.017333</td>\n",
       "    </tr>\n",
       "    <tr>\n",
       "      <th>2</th>\n",
       "      <td>2.452772</td>\n",
       "      <td>0.000000</td>\n",
       "    </tr>\n",
       "    <tr>\n",
       "      <th>3</th>\n",
       "      <td>2.284024</td>\n",
       "      <td>0.000000</td>\n",
       "    </tr>\n",
       "    <tr>\n",
       "      <th>4</th>\n",
       "      <td>2.129894</td>\n",
       "      <td>0.000000</td>\n",
       "    </tr>\n",
       "    <tr>\n",
       "      <th>5</th>\n",
       "      <td>1.987658</td>\n",
       "      <td>0.000000</td>\n",
       "    </tr>\n",
       "  </tbody>\n",
       "</table>\n",
       "</div>"
      ],
      "text/plain": [
       "       loss  accuracy\n",
       "1  2.630662  0.017333\n",
       "2  2.452772  0.000000\n",
       "3  2.284024  0.000000\n",
       "4  2.129894  0.000000\n",
       "5  1.987658  0.000000"
      ]
     },
     "execution_count": 11,
     "metadata": {},
     "output_type": "execute_result"
    }
   ],
   "source": [
    "# Create a dataframe containing history.\n",
    "history_df = pd.DataFrame(fit_model.history, index = range(1, len(fit_model.history['loss']) + 1))\n",
    "history_df.head()"
   ]
  },
  {
   "cell_type": "code",
   "execution_count": 12,
   "metadata": {},
   "outputs": [
    {
     "data": {
      "text/plain": [
       "<matplotlib.axes._subplots.AxesSubplot at 0x1a4c945fd0>"
      ]
     },
     "execution_count": 12,
     "metadata": {},
     "output_type": "execute_result"
    },
    {
     "data": {
      "image/png": "[encoded data removed]",
      "text/plain": [
       "<Figure size 432x288 with 1 Axes>"
      ]
     },
     "metadata": {
      "needs_background": "light"
     },
     "output_type": "display_data"
    }
   ],
   "source": [
    "# Plot the loss.\n",
    "history_df.plot(y = 'loss')"
   ]
  },
  {
   "cell_type": "code",
   "execution_count": 13,
   "metadata": {},
   "outputs": [
    {
     "data": {
      "text/plain": [
       "<matplotlib.axes._subplots.AxesSubplot at 0x1a4d0503d0>"
      ]
     },
     "execution_count": 13,
     "metadata": {},
     "output_type": "execute_result"
    },
    {
     "data": {
      "image/png": "[encoded data removed]",
      "text/plain": [
       "<Figure size 432x288 with 1 Axes>"
      ]
     },
     "metadata": {
      "needs_background": "light"
     },
     "output_type": "display_data"
    }
   ],
   "source": [
    "# Plot the accuracy.\n",
    "history_df.plot(y = 'accuracy')"
   ]
  },
  {
   "cell_type": "code",
   "execution_count": 14,
   "metadata": {},
   "outputs": [
    {
     "name": "stdout",
     "output_type": "stream",
     "text": [
      "250/1 - 0s - loss: 0.5657 - accuracy: 0.4840\n",
      "Loss:0.6064140386581421, Accuracy: 0.48399999737739563\n"
     ]
    }
   ],
   "source": [
    "# Evaluate the model using the test data.\n",
    "model_loss, model_accuracy = nn_model.evaluate(X_test_scaled, y_test, verbose = 2)\n",
    "print(f\"Loss:{model_loss}, Accuracy: {model_accuracy}\")"
   ]
  },
  {
   "cell_type": "code",
   "execution_count": 15,
   "metadata": {},
   "outputs": [
    {
     "data": {
      "text/plain": [
       "array([[0],\n",
       "       [0],\n",
       "       [0],\n",
       "       [0],\n",
       "       [0],\n",
       "       [0],\n",
       "       [0],\n",
       "       [0],\n",
       "       [0],\n",
       "       [0]], dtype=int32)"
      ]
     },
     "execution_count": 15,
     "metadata": {},
     "output_type": "execute_result"
    }
   ],
   "source": [
    "# Predict the classification of a new set of bolb data.\n",
    "new_X, new_Y = make_blobs(n_samples = 10, centers = 2, n_features = 2, random_state = 78)\n",
    "new_X_scaled = X_scaler.transform(new_X)\n",
    "nn_model.predict_classes(new_X_scaled)"
   ]
  },
  {
   "cell_type": "code",
   "execution_count": 16,
   "metadata": {},
   "outputs": [
    {
     "data": {
      "text/plain": [
       "<matplotlib.axes._subplots.AxesSubplot at 0x1a4d173f50>"
      ]
     },
     "execution_count": 16,
     "metadata": {},
     "output_type": "execute_result"
    },
    {
     "data": {
      "image/png": "[encoded data removed]",
      "text/plain": [
       "<Figure size 432x288 with 2 Axes>"
      ]
     },
     "metadata": {
      "needs_background": "light"
     },
     "output_type": "display_data"
    }
   ],
   "source": [
    "# Creating dummy nonlinear data.\n",
    "X_moons, y_moons = make_moons(n_samples = 1000, noise = 0.08, random_state = 78)\n",
    "\n",
    "# Transforming y_moons to a vetical vector.\n",
    "y_moons = y_moons.reshape(-1, 1)\n",
    "\n",
    "# Creating a dataframe to plot the nonlinear dummy data.\n",
    "df_moons = pd.DataFrame(data = X_moons, columns = ['Feature 1', 'Feature 2'])\n",
    "df_moons['Target'] = y_moons\n",
    "\n",
    "# Plot the nonlinear dummy data.\n",
    "df_moons.plot.scatter(x = 'Feature 1', y = 'Feature 2', c = 'Target', colormap = 'winter')"
   ]
  },
  {
   "cell_type": "code",
   "execution_count": 17,
   "metadata": {},
   "outputs": [],
   "source": [
    "# Creating training and testing sets\n",
    "X_moon_train, X_moon_test, y_moon_train, y_moon_test = train_test_split(X_moons, y_moons, random_state = 78)\n",
    "\n",
    "# Create the scaler instance.\n",
    "X_moon_scaler = skl.preprocessing.StandardScaler()\n",
    "\n",
    "# Fit the scaler.\n",
    "X_moon_scaler.fit(X_moon_train)\n",
    "\n",
    "# Scale the data.\n",
    "X_moon_train_scaled = X_moon_scaler.transform(X_moon_train)\n",
    "X_moon_test_scaled = X_moon_scaler.transform(X_moon_test)"
   ]
  },
  {
   "cell_type": "code",
   "execution_count": 18,
   "metadata": {},
   "outputs": [
    {
     "name": "stdout",
     "output_type": "stream",
     "text": [
      "Train on 750 samples\n",
      "Epoch 1/100\n",
      "750/750 [==============================] - 0s 100us/sample - loss: 0.7042 - accuracy: 0.5547\n",
      "Epoch 2/100\n",
      "750/750 [==============================] - 0s 59us/sample - loss: 0.6997 - accuracy: 0.5640\n",
      "Epoch 3/100\n",
      "750/750 [==============================] - 0s 58us/sample - loss: 0.6946 - accuracy: 0.5760\n",
      "Epoch 4/100\n",
      "750/750 [==============================] - 0s 58us/sample - loss: 0.6895 - accuracy: 0.5840\n",
      "Epoch 5/100\n",
      "750/750 [==============================] - 0s 58us/sample - loss: 0.6847 - accuracy: 0.6000\n",
      "Epoch 6/100\n",
      "750/750 [==============================] - 0s 59us/sample - loss: 0.6803 - accuracy: 0.6147\n",
      "Epoch 7/100\n",
      "750/750 [==============================] - 0s 60us/sample - loss: 0.6758 - accuracy: 0.6280\n",
      "Epoch 8/100\n",
      "750/750 [==============================] - 0s 58us/sample - loss: 0.6716 - accuracy: 0.6427\n",
      "Epoch 9/100\n",
      "750/750 [==============================] - 0s 57us/sample - loss: 0.6678 - accuracy: 0.6467\n",
      "Epoch 10/100\n",
      "750/750 [==============================] - 0s 56us/sample - loss: 0.6639 - accuracy: 0.6573\n",
      "Epoch 11/100\n",
      "750/750 [==============================] - 0s 56us/sample - loss: 0.6602 - accuracy: 0.6613\n",
      "Epoch 12/100\n",
      "750/750 [==============================] - 0s 57us/sample - loss: 0.6566 - accuracy: 0.6680\n",
      "Epoch 13/100\n",
      "750/750 [==============================] - 0s 57us/sample - loss: 0.6531 - accuracy: 0.6747\n",
      "Epoch 14/100\n",
      "750/750 [==============================] - 0s 57us/sample - loss: 0.6497 - accuracy: 0.6827\n",
      "Epoch 15/100\n",
      "750/750 [==============================] - 0s 58us/sample - loss: 0.6464 - accuracy: 0.6907\n",
      "Epoch 16/100\n",
      "750/750 [==============================] - 0s 57us/sample - loss: 0.6429 - accuracy: 0.6933\n",
      "Epoch 17/100\n",
      "750/750 [==============================] - 0s 59us/sample - loss: 0.6397 - accuracy: 0.7067\n",
      "Epoch 18/100\n",
      "750/750 [==============================] - 0s 57us/sample - loss: 0.6362 - accuracy: 0.7133\n",
      "Epoch 19/100\n",
      "750/750 [==============================] - 0s 58us/sample - loss: 0.6328 - accuracy: 0.7200\n",
      "Epoch 20/100\n",
      "750/750 [==============================] - 0s 58us/sample - loss: 0.6294 - accuracy: 0.7200\n",
      "Epoch 21/100\n",
      "750/750 [==============================] - 0s 58us/sample - loss: 0.6261 - accuracy: 0.7280\n",
      "Epoch 22/100\n",
      "750/750 [==============================] - 0s 56us/sample - loss: 0.6227 - accuracy: 0.7280\n",
      "Epoch 23/100\n",
      "750/750 [==============================] - 0s 57us/sample - loss: 0.6191 - accuracy: 0.7293\n",
      "Epoch 24/100\n",
      "750/750 [==============================] - 0s 56us/sample - loss: 0.6157 - accuracy: 0.7253\n",
      "Epoch 25/100\n",
      "750/750 [==============================] - 0s 58us/sample - loss: 0.6122 - accuracy: 0.7187\n",
      "Epoch 26/100\n",
      "750/750 [==============================] - 0s 56us/sample - loss: 0.6087 - accuracy: 0.7147\n",
      "Epoch 27/100\n",
      "750/750 [==============================] - 0s 56us/sample - loss: 0.6052 - accuracy: 0.7107\n",
      "Epoch 28/100\n",
      "750/750 [==============================] - 0s 57us/sample - loss: 0.6016 - accuracy: 0.7040\n",
      "Epoch 29/100\n",
      "750/750 [==============================] - 0s 58us/sample - loss: 0.5979 - accuracy: 0.7040\n",
      "Epoch 30/100\n",
      "750/750 [==============================] - 0s 56us/sample - loss: 0.5943 - accuracy: 0.7000\n",
      "Epoch 31/100\n",
      "750/750 [==============================] - 0s 58us/sample - loss: 0.5906 - accuracy: 0.6933\n",
      "Epoch 32/100\n",
      "750/750 [==============================] - 0s 57us/sample - loss: 0.5869 - accuracy: 0.6907\n",
      "Epoch 33/100\n",
      "750/750 [==============================] - 0s 59us/sample - loss: 0.5831 - accuracy: 0.6960\n",
      "Epoch 34/100\n",
      "750/750 [==============================] - 0s 57us/sample - loss: 0.5794 - accuracy: 0.6987\n",
      "Epoch 35/100\n",
      "750/750 [==============================] - 0s 57us/sample - loss: 0.5756 - accuracy: 0.7000\n",
      "Epoch 36/100\n",
      "750/750 [==============================] - 0s 59us/sample - loss: 0.5719 - accuracy: 0.7093\n",
      "Epoch 37/100\n",
      "750/750 [==============================] - 0s 58us/sample - loss: 0.5679 - accuracy: 0.7173\n",
      "Epoch 38/100\n",
      "750/750 [==============================] - 0s 57us/sample - loss: 0.5640 - accuracy: 0.7173\n",
      "Epoch 39/100\n",
      "750/750 [==============================] - 0s 59us/sample - loss: 0.5600 - accuracy: 0.7213\n",
      "Epoch 40/100\n",
      "750/750 [==============================] - 0s 57us/sample - loss: 0.5560 - accuracy: 0.7227\n",
      "Epoch 41/100\n",
      "750/750 [==============================] - 0s 58us/sample - loss: 0.5519 - accuracy: 0.7280\n",
      "Epoch 42/100\n",
      "750/750 [==============================] - 0s 57us/sample - loss: 0.5477 - accuracy: 0.7280\n",
      "Epoch 43/100\n",
      "750/750 [==============================] - 0s 57us/sample - loss: 0.5437 - accuracy: 0.7373\n",
      "Epoch 44/100\n",
      "750/750 [==============================] - 0s 59us/sample - loss: 0.5396 - accuracy: 0.7400\n",
      "Epoch 45/100\n",
      "750/750 [==============================] - 0s 58us/sample - loss: 0.5355 - accuracy: 0.7413\n",
      "Epoch 46/100\n",
      "750/750 [==============================] - 0s 57us/sample - loss: 0.5314 - accuracy: 0.7427\n",
      "Epoch 47/100\n",
      "750/750 [==============================] - 0s 59us/sample - loss: 0.5274 - accuracy: 0.7480\n",
      "Epoch 48/100\n",
      "750/750 [==============================] - 0s 58us/sample - loss: 0.5233 - accuracy: 0.7533\n",
      "Epoch 49/100\n",
      "750/750 [==============================] - 0s 58us/sample - loss: 0.5192 - accuracy: 0.7547\n",
      "Epoch 50/100\n",
      "750/750 [==============================] - 0s 60us/sample - loss: 0.5152 - accuracy: 0.7560\n",
      "Epoch 51/100\n",
      "750/750 [==============================] - 0s 58us/sample - loss: 0.5112 - accuracy: 0.7573\n",
      "Epoch 52/100\n",
      "750/750 [==============================] - 0s 57us/sample - loss: 0.5073 - accuracy: 0.7613\n",
      "Epoch 53/100\n",
      "750/750 [==============================] - 0s 60us/sample - loss: 0.5034 - accuracy: 0.7667\n",
      "Epoch 54/100\n",
      "750/750 [==============================] - 0s 55us/sample - loss: 0.4995 - accuracy: 0.7733\n",
      "Epoch 55/100\n",
      "750/750 [==============================] - 0s 56us/sample - loss: 0.4956 - accuracy: 0.7760\n",
      "Epoch 56/100\n",
      "750/750 [==============================] - 0s 56us/sample - loss: 0.4917 - accuracy: 0.7800\n",
      "Epoch 57/100\n",
      "750/750 [==============================] - 0s 55us/sample - loss: 0.4878 - accuracy: 0.7840\n",
      "Epoch 58/100\n",
      "750/750 [==============================] - 0s 56us/sample - loss: 0.4839 - accuracy: 0.7827\n",
      "Epoch 59/100\n",
      "750/750 [==============================] - 0s 57us/sample - loss: 0.4800 - accuracy: 0.7840\n",
      "Epoch 60/100\n",
      "750/750 [==============================] - 0s 56us/sample - loss: 0.4762 - accuracy: 0.7853\n",
      "Epoch 61/100\n",
      "750/750 [==============================] - 0s 56us/sample - loss: 0.4724 - accuracy: 0.7867\n",
      "Epoch 62/100\n",
      "750/750 [==============================] - 0s 58us/sample - loss: 0.4687 - accuracy: 0.7867\n",
      "Epoch 63/100\n",
      "750/750 [==============================] - 0s 56us/sample - loss: 0.4650 - accuracy: 0.7893\n",
      "Epoch 64/100\n",
      "750/750 [==============================] - 0s 59us/sample - loss: 0.4613 - accuracy: 0.7920\n",
      "Epoch 65/100\n",
      "750/750 [==============================] - 0s 58us/sample - loss: 0.4576 - accuracy: 0.7920\n",
      "Epoch 66/100\n",
      "750/750 [==============================] - 0s 57us/sample - loss: 0.4540 - accuracy: 0.7920\n",
      "Epoch 67/100\n",
      "750/750 [==============================] - 0s 58us/sample - loss: 0.4504 - accuracy: 0.7933\n",
      "Epoch 68/100\n",
      "750/750 [==============================] - 0s 57us/sample - loss: 0.4469 - accuracy: 0.7960\n",
      "Epoch 69/100\n",
      "750/750 [==============================] - 0s 60us/sample - loss: 0.4433 - accuracy: 0.7960\n",
      "Epoch 70/100\n",
      "750/750 [==============================] - 0s 61us/sample - loss: 0.4398 - accuracy: 0.7987\n",
      "Epoch 71/100\n",
      "750/750 [==============================] - 0s 65us/sample - loss: 0.4363 - accuracy: 0.8027\n",
      "Epoch 72/100\n",
      "750/750 [==============================] - 0s 64us/sample - loss: 0.4328 - accuracy: 0.8040\n",
      "Epoch 73/100\n",
      "750/750 [==============================] - 0s 66us/sample - loss: 0.4295 - accuracy: 0.8067\n",
      "Epoch 74/100\n",
      "750/750 [==============================] - 0s 61us/sample - loss: 0.4260 - accuracy: 0.8080\n",
      "Epoch 75/100\n",
      "750/750 [==============================] - 0s 62us/sample - loss: 0.4227 - accuracy: 0.8107\n",
      "Epoch 76/100\n",
      "750/750 [==============================] - 0s 63us/sample - loss: 0.4194 - accuracy: 0.8107\n",
      "Epoch 77/100\n",
      "750/750 [==============================] - 0s 62us/sample - loss: 0.4161 - accuracy: 0.8133\n",
      "Epoch 78/100\n"
     ]
    },
    {
     "name": "stdout",
     "output_type": "stream",
     "text": [
      "750/750 [==============================] - 0s 60us/sample - loss: 0.4128 - accuracy: 0.8147\n",
      "Epoch 79/100\n",
      "750/750 [==============================] - 0s 59us/sample - loss: 0.4096 - accuracy: 0.8160\n",
      "Epoch 80/100\n",
      "750/750 [==============================] - 0s 56us/sample - loss: 0.4064 - accuracy: 0.8173\n",
      "Epoch 81/100\n",
      "750/750 [==============================] - 0s 56us/sample - loss: 0.4032 - accuracy: 0.8213\n",
      "Epoch 82/100\n",
      "750/750 [==============================] - 0s 56us/sample - loss: 0.4001 - accuracy: 0.8267\n",
      "Epoch 83/100\n",
      "750/750 [==============================] - 0s 57us/sample - loss: 0.3969 - accuracy: 0.8293\n",
      "Epoch 84/100\n",
      "750/750 [==============================] - 0s 63us/sample - loss: 0.3939 - accuracy: 0.8293\n",
      "Epoch 85/100\n",
      "750/750 [==============================] - 0s 65us/sample - loss: 0.3909 - accuracy: 0.8320\n",
      "Epoch 86/100\n",
      "750/750 [==============================] - 0s 64us/sample - loss: 0.3879 - accuracy: 0.8320\n",
      "Epoch 87/100\n",
      "750/750 [==============================] - 0s 63us/sample - loss: 0.3850 - accuracy: 0.8320\n",
      "Epoch 88/100\n",
      "750/750 [==============================] - 0s 61us/sample - loss: 0.3821 - accuracy: 0.8333\n",
      "Epoch 89/100\n",
      "750/750 [==============================] - 0s 62us/sample - loss: 0.3792 - accuracy: 0.8347\n",
      "Epoch 90/100\n",
      "750/750 [==============================] - 0s 57us/sample - loss: 0.3764 - accuracy: 0.8360\n",
      "Epoch 91/100\n",
      "750/750 [==============================] - 0s 56us/sample - loss: 0.3736 - accuracy: 0.8413\n",
      "Epoch 92/100\n",
      "750/750 [==============================] - 0s 56us/sample - loss: 0.3709 - accuracy: 0.8453\n",
      "Epoch 93/100\n",
      "750/750 [==============================] - 0s 57us/sample - loss: 0.3682 - accuracy: 0.8467\n",
      "Epoch 94/100\n",
      "750/750 [==============================] - 0s 57us/sample - loss: 0.3656 - accuracy: 0.8493\n",
      "Epoch 95/100\n",
      "750/750 [==============================] - 0s 57us/sample - loss: 0.3630 - accuracy: 0.8507\n",
      "Epoch 96/100\n",
      "750/750 [==============================] - 0s 57us/sample - loss: 0.3605 - accuracy: 0.8507\n",
      "Epoch 97/100\n",
      "750/750 [==============================] - 0s 62us/sample - loss: 0.3580 - accuracy: 0.8520\n",
      "Epoch 98/100\n",
      "750/750 [==============================] - 0s 59us/sample - loss: 0.3556 - accuracy: 0.8547\n",
      "Epoch 99/100\n",
      "750/750 [==============================] - 0s 63us/sample - loss: 0.3532 - accuracy: 0.8587\n",
      "Epoch 100/100\n",
      "750/750 [==============================] - 0s 63us/sample - loss: 0.3509 - accuracy: 0.8587\n"
     ]
    }
   ],
   "source": [
    "# Training the model with the nonlinear data.\n",
    "model_moon = nn_model.fit(X_moon_train_scaled, y_moon_train, epochs = 100, shuffle = True)"
   ]
  },
  {
   "cell_type": "code",
   "execution_count": 23,
   "metadata": {},
   "outputs": [
    {
     "data": {
      "text/plain": [
       "<matplotlib.axes._subplots.AxesSubplot at 0x1a4cce34d0>"
      ]
     },
     "execution_count": 23,
     "metadata": {},
     "output_type": "execute_result"
    },
    {
     "data": {
      "image/png": "[encoded data removed]",
      "text/plain": [
       "<Figure size 432x288 with 1 Axes>"
      ]
     },
     "metadata": {
      "needs_background": "light"
     },
     "output_type": "display_data"
    }
   ],
   "source": [
    "# Create a dataframe containing training history\n",
    "history_df = pd.DataFrame(model_moon.history, index = range(1, len(model_moon.history['loss']) + 1))\n",
    "\n",
    "# Plot the loss.\n",
    "history_df.plot(y = 'loss')"
   ]
  },
  {
   "cell_type": "code",
   "execution_count": 24,
   "metadata": {},
   "outputs": [
    {
     "data": {
      "text/plain": [
       "<matplotlib.axes._subplots.AxesSubplot at 0x1a4d9c8250>"
      ]
     },
     "execution_count": 24,
     "metadata": {},
     "output_type": "execute_result"
    },
    {
     "data": {
      "image/png": "[encoded data removed]",
      "text/plain": [
       "<Figure size 432x288 with 1 Axes>"
      ]
     },
     "metadata": {
      "needs_background": "light"
     },
     "output_type": "display_data"
    }
   ],
   "source": [
    "# Plot the accuracy.\n",
    "history_df.plot(y = 'accuracy')"
   ]
  },
  {
   "cell_type": "code",
   "execution_count": 19,
   "metadata": {},
   "outputs": [],
   "source": [
    "# Generate a new Sequential model.\n",
    "new_model = tf.keras.models.Sequential()"
   ]
  },
  {
   "cell_type": "code",
   "execution_count": 20,
   "metadata": {},
   "outputs": [],
   "source": [
    "# Add the imput and hidden layer of the neural network.\n",
    "number_inputs = 2\n",
    "number_hidden_neurons = 6\n",
    "\n",
    "new_model.add(tf.keras.layers.Dense(units = number_hidden_neurons, activation = 'relu', input_dim = number_inputs))\n",
    "\n",
    "# Add output layer that uses a probablity activation function.\n",
    "new_model.add(tf.keras.layers.Dense(units = 1, activation = 'sigmoid'))"
   ]
  },
  {
   "cell_type": "code",
   "execution_count": 25,
   "metadata": {},
   "outputs": [
    {
     "name": "stdout",
     "output_type": "stream",
     "text": [
      "Train on 750 samples\n",
      "Epoch 1/100\n",
      "750/750 [==============================] - 1s 1ms/sample - loss: 0.4765 - accuracy: 0.8693\n",
      "Epoch 2/100\n",
      "750/750 [==============================] - 0s 67us/sample - loss: 0.4483 - accuracy: 0.8747\n",
      "Epoch 3/100\n",
      "750/750 [==============================] - 0s 65us/sample - loss: 0.4229 - accuracy: 0.8760\n",
      "Epoch 4/100\n",
      "750/750 [==============================] - 0s 72us/sample - loss: 0.4006 - accuracy: 0.8773\n",
      "Epoch 5/100\n",
      "750/750 [==============================] - 0s 63us/sample - loss: 0.3809 - accuracy: 0.8733\n",
      "Epoch 6/100\n",
      "750/750 [==============================] - 0s 66us/sample - loss: 0.3636 - accuracy: 0.8747\n",
      "Epoch 7/100\n",
      "750/750 [==============================] - 0s 60us/sample - loss: 0.3484 - accuracy: 0.8760\n",
      "Epoch 8/100\n",
      "750/750 [==============================] - 0s 70us/sample - loss: 0.3354 - accuracy: 0.8773\n",
      "Epoch 9/100\n",
      "750/750 [==============================] - 0s 66us/sample - loss: 0.3241 - accuracy: 0.8800\n",
      "Epoch 10/100\n",
      "750/750 [==============================] - 0s 71us/sample - loss: 0.3144 - accuracy: 0.8787\n",
      "Epoch 11/100\n",
      "750/750 [==============================] - 0s 61us/sample - loss: 0.3058 - accuracy: 0.8800\n",
      "Epoch 12/100\n",
      "750/750 [==============================] - 0s 67us/sample - loss: 0.2983 - accuracy: 0.8800\n",
      "Epoch 13/100\n",
      "750/750 [==============================] - 0s 69us/sample - loss: 0.2919 - accuracy: 0.8813\n",
      "Epoch 14/100\n",
      "750/750 [==============================] - 0s 67us/sample - loss: 0.2857 - accuracy: 0.8827\n",
      "Epoch 15/100\n",
      "750/750 [==============================] - 0s 61us/sample - loss: 0.2804 - accuracy: 0.8853\n",
      "Epoch 16/100\n",
      "750/750 [==============================] - 0s 60us/sample - loss: 0.2758 - accuracy: 0.8840\n",
      "Epoch 17/100\n",
      "750/750 [==============================] - 0s 68us/sample - loss: 0.2715 - accuracy: 0.8827\n",
      "Epoch 18/100\n",
      "750/750 [==============================] - 0s 66us/sample - loss: 0.2677 - accuracy: 0.8840\n",
      "Epoch 19/100\n",
      "750/750 [==============================] - 0s 67us/sample - loss: 0.2642 - accuracy: 0.8853\n",
      "Epoch 20/100\n",
      "750/750 [==============================] - 0s 75us/sample - loss: 0.2612 - accuracy: 0.8880\n",
      "Epoch 21/100\n",
      "750/750 [==============================] - 0s 72us/sample - loss: 0.2585 - accuracy: 0.8920\n",
      "Epoch 22/100\n",
      "750/750 [==============================] - 0s 76us/sample - loss: 0.2561 - accuracy: 0.8920\n",
      "Epoch 23/100\n",
      "750/750 [==============================] - 0s 68us/sample - loss: 0.2537 - accuracy: 0.8920\n",
      "Epoch 24/100\n",
      "750/750 [==============================] - 0s 73us/sample - loss: 0.2517 - accuracy: 0.8960\n",
      "Epoch 25/100\n",
      "750/750 [==============================] - 0s 64us/sample - loss: 0.2499 - accuracy: 0.8947\n",
      "Epoch 26/100\n",
      "750/750 [==============================] - 0s 65us/sample - loss: 0.2482 - accuracy: 0.8947\n",
      "Epoch 27/100\n",
      "750/750 [==============================] - 0s 66us/sample - loss: 0.2468 - accuracy: 0.8933\n",
      "Epoch 28/100\n",
      "750/750 [==============================] - 0s 65us/sample - loss: 0.2455 - accuracy: 0.8947\n",
      "Epoch 29/100\n",
      "750/750 [==============================] - 0s 69us/sample - loss: 0.2443 - accuracy: 0.8933\n",
      "Epoch 30/100\n",
      "750/750 [==============================] - 0s 64us/sample - loss: 0.2432 - accuracy: 0.8933\n",
      "Epoch 31/100\n",
      "750/750 [==============================] - 0s 64us/sample - loss: 0.2423 - accuracy: 0.8933\n",
      "Epoch 32/100\n",
      "750/750 [==============================] - 0s 69us/sample - loss: 0.2417 - accuracy: 0.8947\n",
      "Epoch 33/100\n",
      "750/750 [==============================] - 0s 70us/sample - loss: 0.2410 - accuracy: 0.8947\n",
      "Epoch 34/100\n",
      "750/750 [==============================] - 0s 61us/sample - loss: 0.2403 - accuracy: 0.8947\n",
      "Epoch 35/100\n",
      "750/750 [==============================] - 0s 60us/sample - loss: 0.2397 - accuracy: 0.8947\n",
      "Epoch 36/100\n",
      "750/750 [==============================] - 0s 69us/sample - loss: 0.2391 - accuracy: 0.8933\n",
      "Epoch 37/100\n",
      "750/750 [==============================] - 0s 68us/sample - loss: 0.2388 - accuracy: 0.8947\n",
      "Epoch 38/100\n",
      "750/750 [==============================] - 0s 62us/sample - loss: 0.2381 - accuracy: 0.8933\n",
      "Epoch 39/100\n",
      "750/750 [==============================] - 0s 68us/sample - loss: 0.2377 - accuracy: 0.8933\n",
      "Epoch 40/100\n",
      "750/750 [==============================] - 0s 68us/sample - loss: 0.2375 - accuracy: 0.8933\n",
      "Epoch 41/100\n",
      "750/750 [==============================] - 0s 69us/sample - loss: 0.2370 - accuracy: 0.8933\n",
      "Epoch 42/100\n",
      "750/750 [==============================] - 0s 62us/sample - loss: 0.2366 - accuracy: 0.8933\n",
      "Epoch 43/100\n",
      "750/750 [==============================] - 0s 68us/sample - loss: 0.2363 - accuracy: 0.8933\n",
      "Epoch 44/100\n",
      "750/750 [==============================] - 0s 69us/sample - loss: 0.2361 - accuracy: 0.8933\n",
      "Epoch 45/100\n",
      "750/750 [==============================] - 0s 68us/sample - loss: 0.2356 - accuracy: 0.8933\n",
      "Epoch 46/100\n",
      "750/750 [==============================] - 0s 65us/sample - loss: 0.2354 - accuracy: 0.8947\n",
      "Epoch 47/100\n",
      "750/750 [==============================] - 0s 64us/sample - loss: 0.2350 - accuracy: 0.8947\n",
      "Epoch 48/100\n",
      "750/750 [==============================] - 0s 69us/sample - loss: 0.2346 - accuracy: 0.8947\n",
      "Epoch 49/100\n",
      "750/750 [==============================] - 0s 68us/sample - loss: 0.2343 - accuracy: 0.8947\n",
      "Epoch 50/100\n",
      "750/750 [==============================] - 0s 64us/sample - loss: 0.2341 - accuracy: 0.8947\n",
      "Epoch 51/100\n",
      "750/750 [==============================] - 0s 65us/sample - loss: 0.2336 - accuracy: 0.8947\n",
      "Epoch 52/100\n",
      "750/750 [==============================] - 0s 70us/sample - loss: 0.2334 - accuracy: 0.8947\n",
      "Epoch 53/100\n",
      "750/750 [==============================] - 0s 70us/sample - loss: 0.2330 - accuracy: 0.8947\n",
      "Epoch 54/100\n",
      "750/750 [==============================] - 0s 61us/sample - loss: 0.2327 - accuracy: 0.8960\n",
      "Epoch 55/100\n",
      "750/750 [==============================] - 0s 65us/sample - loss: 0.2324 - accuracy: 0.8960\n",
      "Epoch 56/100\n",
      "750/750 [==============================] - 0s 71us/sample - loss: 0.2320 - accuracy: 0.8960\n",
      "Epoch 57/100\n",
      "750/750 [==============================] - 0s 71us/sample - loss: 0.2317 - accuracy: 0.8960\n",
      "Epoch 58/100\n",
      "750/750 [==============================] - 0s 62us/sample - loss: 0.2314 - accuracy: 0.8973\n",
      "Epoch 59/100\n",
      "750/750 [==============================] - 0s 63us/sample - loss: 0.2310 - accuracy: 0.8960\n",
      "Epoch 60/100\n",
      "750/750 [==============================] - 0s 71us/sample - loss: 0.2306 - accuracy: 0.8973\n",
      "Epoch 61/100\n",
      "750/750 [==============================] - 0s 71us/sample - loss: 0.2303 - accuracy: 0.8973\n",
      "Epoch 62/100\n",
      "750/750 [==============================] - 0s 66us/sample - loss: 0.2299 - accuracy: 0.8987\n",
      "Epoch 63/100\n",
      "750/750 [==============================] - 0s 65us/sample - loss: 0.2296 - accuracy: 0.8987\n",
      "Epoch 64/100\n",
      "750/750 [==============================] - 0s 65us/sample - loss: 0.2292 - accuracy: 0.8987\n",
      "Epoch 65/100\n",
      "750/750 [==============================] - 0s 71us/sample - loss: 0.2289 - accuracy: 0.8987\n",
      "Epoch 66/100\n",
      "750/750 [==============================] - 0s 64us/sample - loss: 0.2285 - accuracy: 0.8987\n",
      "Epoch 67/100\n",
      "750/750 [==============================] - 0s 65us/sample - loss: 0.2281 - accuracy: 0.8987\n",
      "Epoch 68/100\n",
      "750/750 [==============================] - 0s 65us/sample - loss: 0.2279 - accuracy: 0.8987\n",
      "Epoch 69/100\n",
      "750/750 [==============================] - 0s 69us/sample - loss: 0.2275 - accuracy: 0.8987\n",
      "Epoch 70/100\n",
      "750/750 [==============================] - 0s 69us/sample - loss: 0.2271 - accuracy: 0.8987\n",
      "Epoch 71/100\n",
      "750/750 [==============================] - 0s 67us/sample - loss: 0.2267 - accuracy: 0.9000\n",
      "Epoch 72/100\n",
      "750/750 [==============================] - 0s 65us/sample - loss: 0.2263 - accuracy: 0.9000\n",
      "Epoch 73/100\n",
      "750/750 [==============================] - 0s 66us/sample - loss: 0.2261 - accuracy: 0.9013\n",
      "Epoch 74/100\n",
      "750/750 [==============================] - 0s 71us/sample - loss: 0.2257 - accuracy: 0.9013\n",
      "Epoch 75/100\n",
      "750/750 [==============================] - 0s 62us/sample - loss: 0.2254 - accuracy: 0.9013\n",
      "Epoch 76/100\n",
      "750/750 [==============================] - 0s 63us/sample - loss: 0.2250 - accuracy: 0.9013\n",
      "Epoch 77/100\n",
      "750/750 [==============================] - 0s 66us/sample - loss: 0.2248 - accuracy: 0.9013\n",
      "Epoch 78/100\n"
     ]
    },
    {
     "name": "stdout",
     "output_type": "stream",
     "text": [
      "750/750 [==============================] - 0s 70us/sample - loss: 0.2245 - accuracy: 0.9013\n",
      "Epoch 79/100\n",
      "750/750 [==============================] - 0s 67us/sample - loss: 0.2242 - accuracy: 0.9013\n",
      "Epoch 80/100\n",
      "750/750 [==============================] - 0s 58us/sample - loss: 0.2238 - accuracy: 0.9013\n",
      "Epoch 81/100\n",
      "750/750 [==============================] - 0s 62us/sample - loss: 0.2236 - accuracy: 0.9013\n",
      "Epoch 82/100\n",
      "750/750 [==============================] - 0s 57us/sample - loss: 0.2233 - accuracy: 0.9013\n",
      "Epoch 83/100\n",
      "750/750 [==============================] - 0s 57us/sample - loss: 0.2229 - accuracy: 0.9013\n",
      "Epoch 84/100\n",
      "750/750 [==============================] - 0s 59us/sample - loss: 0.2227 - accuracy: 0.9013\n",
      "Epoch 85/100\n",
      "750/750 [==============================] - 0s 57us/sample - loss: 0.2224 - accuracy: 0.9013\n",
      "Epoch 86/100\n",
      "750/750 [==============================] - 0s 57us/sample - loss: 0.2221 - accuracy: 0.9013\n",
      "Epoch 87/100\n",
      "750/750 [==============================] - 0s 58us/sample - loss: 0.2219 - accuracy: 0.9013\n",
      "Epoch 88/100\n",
      "750/750 [==============================] - 0s 57us/sample - loss: 0.2216 - accuracy: 0.9013\n",
      "Epoch 89/100\n",
      "750/750 [==============================] - 0s 59us/sample - loss: 0.2213 - accuracy: 0.9013\n",
      "Epoch 90/100\n",
      "750/750 [==============================] - 0s 57us/sample - loss: 0.2210 - accuracy: 0.9013\n",
      "Epoch 91/100\n",
      "750/750 [==============================] - 0s 57us/sample - loss: 0.2206 - accuracy: 0.9013\n",
      "Epoch 92/100\n",
      "750/750 [==============================] - 0s 60us/sample - loss: 0.2204 - accuracy: 0.9013\n",
      "Epoch 93/100\n",
      "750/750 [==============================] - 0s 59us/sample - loss: 0.2200 - accuracy: 0.9000\n",
      "Epoch 94/100\n",
      "750/750 [==============================] - 0s 57us/sample - loss: 0.2197 - accuracy: 0.9013\n",
      "Epoch 95/100\n",
      "750/750 [==============================] - 0s 57us/sample - loss: 0.2193 - accuracy: 0.9013\n",
      "Epoch 96/100\n",
      "750/750 [==============================] - 0s 57us/sample - loss: 0.2189 - accuracy: 0.9013\n",
      "Epoch 97/100\n",
      "750/750 [==============================] - 0s 57us/sample - loss: 0.2186 - accuracy: 0.9013\n",
      "Epoch 98/100\n",
      "750/750 [==============================] - 0s 58us/sample - loss: 0.2184 - accuracy: 0.9013\n",
      "Epoch 99/100\n",
      "750/750 [==============================] - 0s 57us/sample - loss: 0.2180 - accuracy: 0.9013\n",
      "Epoch 100/100\n",
      "750/750 [==============================] - 0s 57us/sample - loss: 0.2176 - accuracy: 0.9013\n"
     ]
    }
   ],
   "source": [
    "# Compile the Sequential model together and customize metrics.\n",
    "new_model.compile(loss = 'binary_crossentropy', optimizer = 'adam', metrics = ['accuracy'])\n",
    "\n",
    "# Fit the model to the training data.\n",
    "new_fit_model = new_model.fit(X_moon_train_scaled, y_moon_train, epochs = 100, shuffle = True)"
   ]
  },
  {
   "cell_type": "code",
   "execution_count": null,
   "metadata": {},
   "outputs": [],
   "source": []
  }
 ],
 "metadata": {
  "kernelspec": {
   "display_name": "Python 3",
   "language": "python",
   "name": "python3"
  },
  "language_info": {
   "codemirror_mode": {
    "name": "ipython",
    "version": 3
   },
   "file_extension": ".py",
   "mimetype": "text/x-python",
   "name": "python",
   "nbconvert_exporter": "python",
   "pygments_lexer": "ipython3",
   "version": "3.7.6"
  }
 },
 "nbformat": 4,
 "nbformat_minor": 4
}
