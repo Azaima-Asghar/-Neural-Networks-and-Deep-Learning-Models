{
 "cells": [
  {
   "cell_type": "code",
   "execution_count": 14,
   "metadata": {},
   "outputs": [],
   "source": [
    "# Import our dependencies.\n",
    "from sklearn.model_selection import train_test_split\n",
    "from sklearn.preprocessing import StandardScaler\n",
    "from sklearn.linear_model import LogisticRegression\n",
    "from sklearn.metrics import accuracy_score\n",
    "import pandas as pd\n",
    "import tensorflow as tf\n",
    "import numpy as np"
   ]
  },
  {
   "cell_type": "code",
   "execution_count": 2,
   "metadata": {},
   "outputs": [
    {
     "data": {
      "text/html": [
       "<div>\n",
       "<style scoped>\n",
       "    .dataframe tbody tr th:only-of-type {\n",
       "        vertical-align: middle;\n",
       "    }\n",
       "\n",
       "    .dataframe tbody tr th {\n",
       "        vertical-align: top;\n",
       "    }\n",
       "\n",
       "    .dataframe thead th {\n",
       "        text-align: right;\n",
       "    }\n",
       "</style>\n",
       "<table border=\"1\" class=\"dataframe\">\n",
       "  <thead>\n",
       "    <tr style=\"text-align: right;\">\n",
       "      <th></th>\n",
       "      <th>Pregnancies</th>\n",
       "      <th>Glucose</th>\n",
       "      <th>BloodPressure</th>\n",
       "      <th>SkinThickness</th>\n",
       "      <th>Insulin</th>\n",
       "      <th>BMI</th>\n",
       "      <th>DiabetesPedigreeFunction</th>\n",
       "      <th>Age</th>\n",
       "      <th>Outcome</th>\n",
       "    </tr>\n",
       "  </thead>\n",
       "  <tbody>\n",
       "    <tr>\n",
       "      <th>0</th>\n",
       "      <td>6</td>\n",
       "      <td>148</td>\n",
       "      <td>72</td>\n",
       "      <td>35</td>\n",
       "      <td>0</td>\n",
       "      <td>33.6</td>\n",
       "      <td>0.627</td>\n",
       "      <td>50</td>\n",
       "      <td>1</td>\n",
       "    </tr>\n",
       "    <tr>\n",
       "      <th>1</th>\n",
       "      <td>1</td>\n",
       "      <td>85</td>\n",
       "      <td>66</td>\n",
       "      <td>29</td>\n",
       "      <td>0</td>\n",
       "      <td>26.6</td>\n",
       "      <td>0.351</td>\n",
       "      <td>31</td>\n",
       "      <td>0</td>\n",
       "    </tr>\n",
       "    <tr>\n",
       "      <th>2</th>\n",
       "      <td>8</td>\n",
       "      <td>183</td>\n",
       "      <td>64</td>\n",
       "      <td>0</td>\n",
       "      <td>0</td>\n",
       "      <td>23.3</td>\n",
       "      <td>0.672</td>\n",
       "      <td>32</td>\n",
       "      <td>1</td>\n",
       "    </tr>\n",
       "    <tr>\n",
       "      <th>3</th>\n",
       "      <td>1</td>\n",
       "      <td>89</td>\n",
       "      <td>66</td>\n",
       "      <td>23</td>\n",
       "      <td>94</td>\n",
       "      <td>28.1</td>\n",
       "      <td>0.167</td>\n",
       "      <td>21</td>\n",
       "      <td>0</td>\n",
       "    </tr>\n",
       "    <tr>\n",
       "      <th>4</th>\n",
       "      <td>0</td>\n",
       "      <td>137</td>\n",
       "      <td>40</td>\n",
       "      <td>35</td>\n",
       "      <td>168</td>\n",
       "      <td>43.1</td>\n",
       "      <td>2.288</td>\n",
       "      <td>33</td>\n",
       "      <td>1</td>\n",
       "    </tr>\n",
       "  </tbody>\n",
       "</table>\n",
       "</div>"
      ],
      "text/plain": [
       "   Pregnancies  Glucose  BloodPressure  SkinThickness  Insulin   BMI  \\\n",
       "0            6      148             72             35        0  33.6   \n",
       "1            1       85             66             29        0  26.6   \n",
       "2            8      183             64              0        0  23.3   \n",
       "3            1       89             66             23       94  28.1   \n",
       "4            0      137             40             35      168  43.1   \n",
       "\n",
       "   DiabetesPedigreeFunction  Age  Outcome  \n",
       "0                     0.627   50        1  \n",
       "1                     0.351   31        0  \n",
       "2                     0.672   32        1  \n",
       "3                     0.167   21        0  \n",
       "4                     2.288   33        1  "
      ]
     },
     "execution_count": 2,
     "metadata": {},
     "output_type": "execute_result"
    }
   ],
   "source": [
    "# Read the data into a dataframe.\n",
    "input_file = ('Resources/diabetes.csv')\n",
    "diabetes_df = pd.read_csv(input_file)\n",
    "diabetes_df.head()"
   ]
  },
  {
   "cell_type": "code",
   "execution_count": 7,
   "metadata": {},
   "outputs": [],
   "source": [
    "# Set features and target.\n",
    "y = diabetes_df['Outcome']\n",
    "X = diabetes_df.drop(columns = 'Outcome')\n",
    "\n",
    "# Split the data into train and test set.\n",
    "X_train, X_test, y_train, y_test = train_test_split(X, y, random_state = 42, stratify = y)"
   ]
  },
  {
   "cell_type": "code",
   "execution_count": 8,
   "metadata": {},
   "outputs": [],
   "source": [
    "# Preprocess numerical data for neural network.\n",
    "\n",
    "# Create an instance of StandardScaler.\n",
    "scaler = StandardScaler()\n",
    "\n",
    "X_scaler = scaler.fit(X_train)\n",
    "\n",
    "# Scale the data.\n",
    "X_train_scaled = X_scaler.transform(X_train)\n",
    "X_test_scaled = X_scaler.transform(X_test)"
   ]
  },
  {
   "cell_type": "code",
   "execution_count": 9,
   "metadata": {},
   "outputs": [
    {
     "name": "stdout",
     "output_type": "stream",
     "text": [
      " Logistic regression model accuracy: 0.729\n"
     ]
    }
   ],
   "source": [
    "# Define the logistic regression model.\n",
    "log_classifier = LogisticRegression(solver = 'lbfgs', max_iter = 200)\n",
    "\n",
    "# Train the logistic model.\n",
    "log_classifier.fit(X_train, y_train)\n",
    "\n",
    "# Evaluate the model.\n",
    "y_pred = log_classifier.predict(X_test)\n",
    "print(f\" Logistic regression model accuracy: {accuracy_score(y_test,y_pred):.3f}\")"
   ]
  },
  {
   "cell_type": "code",
   "execution_count": 10,
   "metadata": {},
   "outputs": [],
   "source": [
    "# Define the basic neural network model.\n",
    "\n",
    "# Add the hidden layer.\n",
    "nn_model = tf.keras.models.Sequential()\n",
    "nn_model.add(tf.keras.layers.Dense(units = 16, activation = 'relu', input_dim = 8))\n",
    "\n",
    "# Add the output layer.\n",
    "nn_model.add(tf.keras.layers.Dense(units = 1, activation = 'sigmoid'))"
   ]
  },
  {
   "cell_type": "code",
   "execution_count": 11,
   "metadata": {},
   "outputs": [],
   "source": [
    "# Complie the nural network model.\n",
    "nn_model.compile(loss = 'binary_crossentropy', optimizer = 'adam', metrics = ['accuracy'])"
   ]
  },
  {
   "cell_type": "code",
   "execution_count": 17,
   "metadata": {},
   "outputs": [],
   "source": [
    "# Change X and y to array.\n",
    "X_train = np.asarray(X_train)\n",
    "y_train = np.asarray(y_train)\n",
    "X_test = np.asarray(X_test)\n",
    "y_test = np.asarray(y_test)"
   ]
  },
  {
   "cell_type": "code",
   "execution_count": 19,
   "metadata": {},
   "outputs": [
    {
     "name": "stdout",
     "output_type": "stream",
     "text": [
      "Train on 576 samples\n",
      "Epoch 1/50\n",
      "576/576 [==============================] - 0s 142us/sample - loss: 0.6253 - accuracy: 0.6528\n",
      "Epoch 2/50\n",
      "576/576 [==============================] - 0s 59us/sample - loss: 0.6056 - accuracy: 0.6580\n",
      "Epoch 3/50\n",
      "576/576 [==============================] - 0s 59us/sample - loss: 0.5862 - accuracy: 0.6545\n",
      "Epoch 4/50\n",
      "576/576 [==============================] - 0s 66us/sample - loss: 0.5682 - accuracy: 0.6701\n",
      "Epoch 5/50\n",
      "576/576 [==============================] - 0s 57us/sample - loss: 0.5538 - accuracy: 0.6858\n",
      "Epoch 6/50\n",
      "576/576 [==============================] - 0s 56us/sample - loss: 0.5397 - accuracy: 0.7066\n",
      "Epoch 7/50\n",
      "576/576 [==============================] - 0s 56us/sample - loss: 0.5295 - accuracy: 0.7153\n",
      "Epoch 8/50\n",
      "576/576 [==============================] - 0s 61us/sample - loss: 0.5212 - accuracy: 0.7240\n",
      "Epoch 9/50\n",
      "576/576 [==============================] - 0s 59us/sample - loss: 0.5141 - accuracy: 0.7309\n",
      "Epoch 10/50\n",
      "576/576 [==============================] - 0s 71us/sample - loss: 0.5088 - accuracy: 0.7326\n",
      "Epoch 11/50\n",
      "576/576 [==============================] - 0s 60us/sample - loss: 0.5031 - accuracy: 0.7552\n",
      "Epoch 12/50\n",
      "576/576 [==============================] - 0s 61us/sample - loss: 0.4988 - accuracy: 0.7587\n",
      "Epoch 13/50\n",
      "576/576 [==============================] - 0s 73us/sample - loss: 0.4950 - accuracy: 0.7604\n",
      "Epoch 14/50\n",
      "576/576 [==============================] - 0s 67us/sample - loss: 0.4915 - accuracy: 0.7587\n",
      "Epoch 15/50\n",
      "576/576 [==============================] - 0s 59us/sample - loss: 0.4880 - accuracy: 0.7639\n",
      "Epoch 16/50\n",
      "576/576 [==============================] - 0s 57us/sample - loss: 0.4850 - accuracy: 0.7743\n",
      "Epoch 17/50\n",
      "576/576 [==============================] - 0s 57us/sample - loss: 0.4827 - accuracy: 0.7812\n",
      "Epoch 18/50\n",
      "576/576 [==============================] - 0s 58us/sample - loss: 0.4799 - accuracy: 0.7830\n",
      "Epoch 19/50\n",
      "576/576 [==============================] - 0s 57us/sample - loss: 0.4777 - accuracy: 0.7830\n",
      "Epoch 20/50\n",
      "576/576 [==============================] - 0s 59us/sample - loss: 0.4755 - accuracy: 0.7882\n",
      "Epoch 21/50\n",
      "576/576 [==============================] - 0s 74us/sample - loss: 0.4737 - accuracy: 0.7882\n",
      "Epoch 22/50\n",
      "576/576 [==============================] - 0s 69us/sample - loss: 0.4724 - accuracy: 0.7882\n",
      "Epoch 23/50\n",
      "576/576 [==============================] - 0s 62us/sample - loss: 0.4707 - accuracy: 0.7934\n",
      "Epoch 24/50\n",
      "576/576 [==============================] - 0s 70us/sample - loss: 0.4697 - accuracy: 0.7934\n",
      "Epoch 25/50\n",
      "576/576 [==============================] - 0s 59us/sample - loss: 0.4683 - accuracy: 0.7934\n",
      "Epoch 26/50\n",
      "576/576 [==============================] - 0s 64us/sample - loss: 0.4669 - accuracy: 0.7934\n",
      "Epoch 27/50\n",
      "576/576 [==============================] - 0s 59us/sample - loss: 0.4657 - accuracy: 0.7882\n",
      "Epoch 28/50\n",
      "576/576 [==============================] - 0s 58us/sample - loss: 0.4645 - accuracy: 0.7899\n",
      "Epoch 29/50\n",
      "576/576 [==============================] - 0s 59us/sample - loss: 0.4633 - accuracy: 0.7917\n",
      "Epoch 30/50\n",
      "576/576 [==============================] - 0s 59us/sample - loss: 0.4623 - accuracy: 0.7899\n",
      "Epoch 31/50\n",
      "576/576 [==============================] - 0s 59us/sample - loss: 0.4611 - accuracy: 0.7917\n",
      "Epoch 32/50\n",
      "576/576 [==============================] - 0s 60us/sample - loss: 0.4602 - accuracy: 0.7934\n",
      "Epoch 33/50\n",
      "576/576 [==============================] - 0s 77us/sample - loss: 0.4592 - accuracy: 0.7934\n",
      "Epoch 34/50\n",
      "576/576 [==============================] - 0s 103us/sample - loss: 0.4584 - accuracy: 0.7969\n",
      "Epoch 35/50\n",
      "576/576 [==============================] - 0s 93us/sample - loss: 0.4576 - accuracy: 0.7986\n",
      "Epoch 36/50\n",
      "576/576 [==============================] - 0s 88us/sample - loss: 0.4568 - accuracy: 0.7986\n",
      "Epoch 37/50\n",
      "576/576 [==============================] - 0s 89us/sample - loss: 0.4559 - accuracy: 0.7986\n",
      "Epoch 38/50\n",
      "576/576 [==============================] - 0s 65us/sample - loss: 0.4551 - accuracy: 0.7986\n",
      "Epoch 39/50\n",
      "576/576 [==============================] - 0s 68us/sample - loss: 0.4543 - accuracy: 0.8003\n",
      "Epoch 40/50\n",
      "576/576 [==============================] - 0s 61us/sample - loss: 0.4535 - accuracy: 0.8003\n",
      "Epoch 41/50\n",
      "576/576 [==============================] - 0s 57us/sample - loss: 0.4527 - accuracy: 0.8003\n",
      "Epoch 42/50\n",
      "576/576 [==============================] - 0s 62us/sample - loss: 0.4521 - accuracy: 0.8003\n",
      "Epoch 43/50\n",
      "576/576 [==============================] - 0s 60us/sample - loss: 0.4515 - accuracy: 0.8021\n",
      "Epoch 44/50\n",
      "576/576 [==============================] - 0s 56us/sample - loss: 0.4509 - accuracy: 0.8021\n",
      "Epoch 45/50\n",
      "576/576 [==============================] - 0s 61us/sample - loss: 0.4500 - accuracy: 0.8021\n",
      "Epoch 46/50\n",
      "576/576 [==============================] - 0s 66us/sample - loss: 0.4495 - accuracy: 0.8021\n",
      "Epoch 47/50\n",
      "576/576 [==============================] - 0s 91us/sample - loss: 0.4491 - accuracy: 0.8003\n",
      "Epoch 48/50\n",
      "576/576 [==============================] - 0s 85us/sample - loss: 0.4485 - accuracy: 0.8003\n",
      "Epoch 49/50\n",
      "576/576 [==============================] - 0s 93us/sample - loss: 0.4482 - accuracy: 0.7986\n",
      "Epoch 50/50\n",
      "576/576 [==============================] - 0s 106us/sample - loss: 0.4476 - accuracy: 0.8003\n"
     ]
    }
   ],
   "source": [
    "# Train the model.\n",
    "fit_model = nn_model.fit(X_train_scaled, y_train, epochs = 50)"
   ]
  },
  {
   "cell_type": "code",
   "execution_count": 20,
   "metadata": {},
   "outputs": [
    {
     "name": "stdout",
     "output_type": "stream",
     "text": [
      "192/1 - 0s - loss: 0.4566 - accuracy: 0.7344\n",
      "Loss: 0.4606970300277074, Accuracy: 0.734375\n"
     ]
    }
   ],
   "source": [
    "# Evaluate the model using the test data.\n",
    "model_loss, model_accuracy = nn_model.evaluate(X_test_scaled, y_test, verbose = 2)\n",
    "print(f\"Loss: {model_loss}, Accuracy: {model_accuracy}\")"
   ]
  },
  {
   "cell_type": "code",
   "execution_count": null,
   "metadata": {},
   "outputs": [],
   "source": []
  }
 ],
 "metadata": {
  "kernelspec": {
   "display_name": "Python 3",
   "language": "python",
   "name": "python3"
  },
  "language_info": {
   "codemirror_mode": {
    "name": "ipython",
    "version": 3
   },
   "file_extension": ".py",
   "mimetype": "text/x-python",
   "name": "python",
   "nbconvert_exporter": "python",
   "pygments_lexer": "ipython3",
   "version": "3.7.6"
  }
 },
 "nbformat": 4,
 "nbformat_minor": 4
}
